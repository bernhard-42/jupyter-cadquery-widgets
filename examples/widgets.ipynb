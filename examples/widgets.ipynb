{
 "cells": [
  {
   "cell_type": "code",
   "execution_count": null,
   "metadata": {
    "tags": []
   },
   "outputs": [],
   "source": [
    "import os\n",
    "from ipywidgets import Output, HBox, Layout"
   ]
  },
  {
   "cell_type": "markdown",
   "metadata": {},
   "source": [
    "# ipywidgets"
   ]
  },
  {
   "cell_type": "code",
   "execution_count": null,
   "metadata": {
    "tags": []
   },
   "outputs": [],
   "source": [
    "from ipywidgets import interact, interactive, fixed, interact_manual\n",
    "import ipywidgets as widgets\n",
    "\n",
    "def f(x):\n",
    "    return x\n",
    "\n",
    "interact(f, x=10);"
   ]
  },
  {
   "cell_type": "markdown",
   "metadata": {},
   "source": [
    "# Image Button"
   ]
  },
  {
   "cell_type": "code",
   "execution_count": null,
   "metadata": {
    "tags": []
   },
   "outputs": [],
   "source": [
    "from jupyter_cadquery_widgets.widgets import ImageButton\n",
    "\n",
    "icon_path = \".\"\n",
    "\n",
    "output = Output()\n",
    "\n",
    "def handler(out):\n",
    "    def f(b):\n",
    "        with out:\n",
    "            print(\"Pressed\", b.type)\n",
    "    return f\n",
    "\n",
    "def create_button(icon):\n",
    "    button = ImageButton(\n",
    "        width=36, \n",
    "        height=28, \n",
    "        image_path=\"%s/%s.png\" % (icon_path, icon),\n",
    "        tooltip=\"Change view to %s\" % icon,\n",
    "        type=icon\n",
    "    )\n",
    "    button.on_click(handler(output))\n",
    "    return button\n",
    "\n",
    "button1 = create_button(\"mesh\")\n",
    "button2 = create_button(\"shape\")\n",
    "\n",
    "\n",
    "HBox([button1, button2, output])"
   ]
  },
  {
   "cell_type": "markdown",
   "metadata": {},
   "source": [
    "# Tree View"
   ]
  },
  {
   "cell_type": "code",
   "execution_count": null,
   "metadata": {},
   "outputs": [],
   "source": [
    "from ipywidgets import Checkbox, Layout, HBox, Output\n",
    "from jupyter_cadquery_widgets.widgets import TreeView, UNSELECTED, SELECTED, MIXED, EMPTY, state_diff"
   ]
  },
  {
   "cell_type": "code",
   "execution_count": null,
   "metadata": {
    "tags": []
   },
   "outputs": [],
   "source": [
    "tree = {\n",
    "    'type': 'node',\n",
    "    'name': 'Root',\n",
    "    'id': \"n1\",\n",
    "    'children': [\n",
    "        {'type': 'leaf',\n",
    "         'name': 'Red box',\n",
    "         'id': \"R\",\n",
    "         'color': 'rgba(255, 0, 0, 0.6)'},\n",
    "        {'type': 'node',\n",
    "         'name': 'Sub',\n",
    "         'id': \"n2\",\n",
    "         'children': [\n",
    "            {'type': 'leaf',\n",
    "             'name': 'Green box',\n",
    "             'id': \"G\",\n",
    "             'color': 'rgba(0, 255, 0, 0.6)'},\n",
    "            {'type': 'leaf',\n",
    "             'name': 'blue box',\n",
    "             'id': \"B\",\n",
    "             'color': 'rgba(0, 0, 255, 0.6)'}]},\n",
    "        {'type': 'leaf',\n",
    "         'name': 'Yellow box',\n",
    "         'id': \"Y\",\n",
    "         'color': 'rgba(255, 255, 0, 0.6)'}\n",
    "]}\n",
    "\n",
    "state = {\n",
    "    \"R\": [EMPTY,      UNSELECTED],\n",
    "    \"G\": [UNSELECTED, SELECTED],\n",
    "    \"B\": [SELECTED,   UNSELECTED],\n",
    "    \"Y\": [SELECTED,   SELECTED]\n",
    "}\n",
    "\n",
    "image_paths = [\n",
    "    {UNSELECTED: \"%s/no_shape.png\"  % icon_path, \n",
    "     SELECTED:   \"%s/shape.png\"     % icon_path, \n",
    "     MIXED:      \"%s/mix_shape.png\" % icon_path, \n",
    "     EMPTY:      \"%s/empty.png\"     % icon_path},\n",
    "    {UNSELECTED: \"%s/no_mesh.png\"   % icon_path, \n",
    "     SELECTED:   \"%s/mesh.png\"      % icon_path, \n",
    "     MIXED:      \"%s/mix_mesh.png\"  % icon_path, \n",
    "     EMPTY:      \"%s/empty.png\"     % icon_path}\n",
    "]\n",
    "\n",
    "height = \"300px\"\n",
    "\n",
    "output = Output(layout=Layout(height=height, width=\"800px\", \n",
    "                              overflow_y=\"scroll\", overflow_x=\"scroll\"))\n",
    "output.add_class(\"mac-scrollbar\")\n",
    "\n",
    "def handler(out):\n",
    "    def f(states):\n",
    "        diff = state_diff(states.get(\"old\"), states.get(\"new\"))\n",
    "        with out:\n",
    "            print(diff)\n",
    "    return f\n",
    "\n",
    "t = TreeView(image_paths=image_paths, tree=tree, state=state, \n",
    "            layout=Layout(height=height, width=\"200px\", \n",
    "                          overflow_y=\"scroll\", overflow_x=\"scroll\"))\n",
    "\n",
    "t.add_class(\"mac-scrollbar\")\n",
    "\n",
    "t.observe(handler(output), \"state\")\n",
    "HBox([t, output])\n"
   ]
  },
  {
   "cell_type": "code",
   "execution_count": null,
   "metadata": {},
   "outputs": [],
   "source": []
  },
  {
   "cell_type": "code",
   "execution_count": null,
   "metadata": {},
   "outputs": [],
   "source": []
  }
 ],
 "metadata": {
  "kernelspec": {
   "display_name": "Python 3",
   "language": "python",
   "name": "python3"
  },
  "language_info": {
   "codemirror_mode": {
    "name": "ipython",
    "version": 3
   },
   "file_extension": ".py",
   "mimetype": "text/x-python",
   "name": "python",
   "nbconvert_exporter": "python",
   "pygments_lexer": "ipython3",
   "version": "3.8.8"
  },
  "widgets": {
   "application/vnd.jupyter.widget-state+json": {
    "state": {},
    "version_major": 2,
    "version_minor": 0
   }
  }
 },
 "nbformat": 4,
 "nbformat_minor": 4
}
